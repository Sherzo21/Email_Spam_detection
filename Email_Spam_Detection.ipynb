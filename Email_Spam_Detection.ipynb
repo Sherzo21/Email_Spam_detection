{
 "cells": [
  {
   "cell_type": "code",
   "execution_count": 1,
   "id": "31843f9c",
   "metadata": {},
   "outputs": [],
   "source": [
    "import pandas as pd\n",
    "from sklearn.feature_extraction.text import TfidfVectorizer\n",
    "from sklearn.model_selection import train_test_split\n",
    "from sklearn.naive_bayes import MultinomialNB\n",
    "from sklearn.metrics import classification_report, confusion_matrix\n",
    "from sklearn.ensemble import RandomForestClassifier"
   ]
  },
  {
   "cell_type": "code",
   "execution_count": 2,
   "id": "10370d3c",
   "metadata": {},
   "outputs": [],
   "source": [
    "file_path = 'spam.csv'\n",
    "data = pd.read_csv(file_path, encoding='ISO-8859-1')"
   ]
  },
  {
   "cell_type": "code",
   "execution_count": 3,
   "id": "2261367d",
   "metadata": {},
   "outputs": [],
   "source": [
    "# Step 1: Data Cleaning\n",
    "# Dropping irrelevant columns\n",
    "cleaned_data = data.drop(columns=['Unnamed: 2', 'Unnamed: 3', 'Unnamed: 4'])"
   ]
  },
  {
   "cell_type": "code",
   "execution_count": 4,
   "id": "5f52e927",
   "metadata": {},
   "outputs": [],
   "source": [
    "# Renaming columns for clarity\n",
    "cleaned_data.columns = ['Label', 'Message']\n",
    "\n",
    "# Removing duplicate entries\n",
    "cleaned_data = cleaned_data.drop_duplicates()\n",
    "\n",
    "# Adding a new feature: message length\n",
    "cleaned_data['Message_Length'] = cleaned_data['Message'].apply(len)"
   ]
  },
  {
   "cell_type": "code",
   "execution_count": 5,
   "id": "87f9cdd4",
   "metadata": {},
   "outputs": [
    {
     "name": "stdout",
     "output_type": "stream",
     "text": [
      "Class Distribution:\n",
      " Label\n",
      "ham     0.87367\n",
      "spam    0.12633\n",
      "Name: proportion, dtype: float64\n"
     ]
    }
   ],
   "source": [
    "# Data Exploration (EDA)\n",
    "# Checking class distribution\n",
    "class_distribution = cleaned_data['Label'].value_counts(normalize=True)\n",
    "print(\"Class Distribution:\\n\", class_distribution)"
   ]
  },
  {
   "cell_type": "code",
   "execution_count": 6,
   "id": "e87f9e95",
   "metadata": {},
   "outputs": [
    {
     "name": "stdout",
     "output_type": "stream",
     "text": [
      "\n",
      "Message Length Statistics by Label:\n",
      "         count        mean        std   min    25%    50%    75%    max\n",
      "Label                                                                 \n",
      "ham    4516.0   70.459256  56.358207   2.0   34.0   52.0   90.0  910.0\n",
      "spam    653.0  137.891271  30.137753  13.0  132.0  149.0  157.0  224.0\n"
     ]
    }
   ],
   "source": [
    "# Summary statistics for message length by label\n",
    "length_stats = cleaned_data.groupby('Label')['Message_Length'].describe()\n",
    "print(\"\\nMessage Length Statistics by Label:\\n\", length_stats)"
   ]
  },
  {
   "cell_type": "code",
   "execution_count": 7,
   "id": "c9750c63",
   "metadata": {},
   "outputs": [],
   "source": [
    "# Step 3: Data Preparation\n",
    "# Splitting data into features and labels\n",
    "X = cleaned_data['Message']\n",
    "y = cleaned_data['Label']"
   ]
  },
  {
   "cell_type": "code",
   "execution_count": 8,
   "id": "9b7879dc",
   "metadata": {},
   "outputs": [
    {
     "name": "stdout",
     "output_type": "stream",
     "text": [
      "\n",
      "Naive Bayes Classification Report:\n",
      "               precision    recall  f1-score   support\n",
      "\n",
      "         Ham       0.97      1.00      0.99       903\n",
      "        Spam       0.99      0.80      0.89       131\n",
      "\n",
      "    accuracy                           0.97      1034\n",
      "   macro avg       0.98      0.90      0.94      1034\n",
      "weighted avg       0.97      0.97      0.97      1034\n",
      "\n",
      "Naive Bayes Confusion Matrix:\n",
      " [[902   1]\n",
      " [ 26 105]]\n",
      "\n",
      "Random Forest Classification Report:\n",
      "               precision    recall  f1-score   support\n",
      "\n",
      "         Ham       0.98      1.00      0.99       903\n",
      "        Spam       0.98      0.84      0.91       131\n",
      "\n",
      "    accuracy                           0.98      1034\n",
      "   macro avg       0.98      0.92      0.95      1034\n",
      "weighted avg       0.98      0.98      0.98      1034\n",
      "\n",
      "Random Forest Confusion Matrix:\n",
      " [[901   2]\n",
      " [ 21 110]]\n"
     ]
    }
   ],
   "source": [
    "# Converting labels to binary (ham = 0, spam = 1)\n",
    "y = y.map({'ham': 0, 'spam': 1})\n",
    "\n",
    "# Train-test split (80-20 split)\n",
    "X_train, X_test, y_train, y_test = train_test_split(X, y, test_size=0.2, random_state=42, stratify=y)\n",
    "\n",
    "# Applying TF-IDF Vectorization\n",
    "tfidf = TfidfVectorizer(max_features=3000, ngram_range=(1, 2), stop_words='english')\n",
    "X_train_tfidf = tfidf.fit_transform(X_train)\n",
    "X_test_tfidf = tfidf.transform(X_test)\n",
    "\n",
    "# Step 4: Baseline Model - Naive Bayes\n",
    "nb_model = MultinomialNB()\n",
    "nb_model.fit(X_train_tfidf, y_train)\n",
    "\n",
    "# Predictions and evaluation for Naive Bayes\n",
    "y_pred_nb = nb_model.predict(X_test_tfidf)\n",
    "print(\"\\nNaive Bayes Classification Report:\\n\", classification_report(y_test, y_pred_nb, target_names=['Ham', 'Spam']))\n",
    "print(\"Naive Bayes Confusion Matrix:\\n\", confusion_matrix(y_test, y_pred_nb))\n",
    "\n",
    "# Step 5: Advanced Model - Random Forest\n",
    "rf_model = RandomForestClassifier(n_estimators=100, random_state=42)\n",
    "rf_model.fit(X_train_tfidf, y_train)\n",
    "\n",
    "# Predictions and evaluation for Random Forest\n",
    "y_pred_rf = rf_model.predict(X_test_tfidf)\n",
    "print(\"\\nRandom Forest Classification Report:\\n\", classification_report(y_test, y_pred_rf, target_names=['Ham', 'Spam']))\n",
    "print(\"Random Forest Confusion Matrix:\\n\", confusion_matrix(y_test, y_pred_rf))"
   ]
  },
  {
   "cell_type": "code",
   "execution_count": null,
   "id": "6857a1c6",
   "metadata": {},
   "outputs": [],
   "source": []
  }
 ],
 "metadata": {
  "kernelspec": {
   "display_name": "Python 3 (ipykernel)",
   "language": "python",
   "name": "python3"
  },
  "language_info": {
   "codemirror_mode": {
    "name": "ipython",
    "version": 3
   },
   "file_extension": ".py",
   "mimetype": "text/x-python",
   "name": "python",
   "nbconvert_exporter": "python",
   "pygments_lexer": "ipython3",
   "version": "3.11.3"
  }
 },
 "nbformat": 4,
 "nbformat_minor": 5
}
